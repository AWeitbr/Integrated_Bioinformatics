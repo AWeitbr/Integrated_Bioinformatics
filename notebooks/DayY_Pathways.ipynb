{
 "cells": [
  {
   "cell_type": "markdown",
   "metadata": {},
   "source": [
    "#### General notebook settings"
   ]
  },
  {
   "cell_type": "code",
   "execution_count": 1,
   "metadata": {
    "collapsed": true
   },
   "outputs": [],
   "source": [
    "%matplotlib inline"
   ]
  },
  {
   "cell_type": "code",
   "execution_count": 2,
   "metadata": {
    "collapsed": true
   },
   "outputs": [],
   "source": [
    "import sys\n",
    "import os"
   ]
  },
  {
   "cell_type": "code",
   "execution_count": 3,
   "metadata": {
    "collapsed": false
   },
   "outputs": [],
   "source": [
    "import pandas as pd\n",
    "import numpy as np\n",
    "import matplotlib\n",
    "import matplotlib.pyplot as plt\n",
    "import seaborn as sns\n",
    "from scipy.stats import chi2_contingency\n",
    "from scipy.stats import pearsonr\n",
    "from scipy.stats import bartlett, levene, normaltest, mannwhitneyu\n",
    "from scipy.stats.mstats import zscore\n",
    "from scipy.stats import hypergeom\n",
    "from statsmodels.sandbox.stats.multicomp import multipletests\n",
    "import statsmodels.graphics.gofplots as sm\n",
    "import random\n",
    "import math"
   ]
  },
  {
   "cell_type": "code",
   "execution_count": 4,
   "metadata": {
    "collapsed": true
   },
   "outputs": [],
   "source": [
    "DIR = \"InOutDirectory/\""
   ]
  },
  {
   "cell_type": "markdown",
   "metadata": {},
   "source": [
    "## Task 1: KEGG and gene id mapping"
   ]
  },
  {
   "cell_type": "markdown",
   "metadata": {},
   "source": [
    "Familiarize yourself with the KEGG Rest interface and how to access it with Biopyhton:\n",
    "\n",
    "http://www.genome.jp/kegg/rest/keggapi.html\n",
    "\n",
    "http://nbviewer.jupyter.org/github/widdowquinn/notebooks/blob/master/Biopython_KGML_intro.ipynb"
   ]
  },
  {
   "cell_type": "markdown",
   "metadata": {},
   "source": [
    "### Subtask 1.1 Extract gene lists for all (mouse) KEGG pathways and store them in a suitable Python data structure"
   ]
  },
  {
   "cell_type": "markdown",
   "metadata": {},
   "source": [
    "Import for the connection with KEGG."
   ]
  },
  {
   "cell_type": "code",
   "execution_count": 24,
   "metadata": {
    "collapsed": false
   },
   "outputs": [],
   "source": [
    "from Bio import SeqIO\n",
    "from Bio.KEGG.REST import *\n",
    "from Bio.KEGG.KGML import KGML_parser\n",
    "from Bio.Graphics.KGML_vis import KGMLCanvas\n",
    "from Bio.Graphics.ColorSpiral import ColorSpiral\n",
    "\n",
    "from IPython.display import Image, HTML"
   ]
  },
  {
   "cell_type": "code",
   "execution_count": 6,
   "metadata": {
    "collapsed": false
   },
   "outputs": [
    {
     "name": "stdout",
     "output_type": "stream",
     "text": [
      "kegg             Kyoto Encyclopedia of Genes and Genomes\n",
      "kegg             Release 79.0+/09-28, Sep 16\n",
      "                 Kanehisa Laboratories\n",
      "                 pathway     462,412 entries\n",
      "                 brite       165,896 entries\n",
      "                 module      377,111 entries\n",
      "                 disease       1,662 entries\n",
      "                 drug         10,364 entries\n",
      "                 environ         850 entries\n",
      "                 orthology    20,133 entries\n",
      "                 genome        4,750 entries\n",
      "                 genes     20,175,595 entries\n",
      "                 dgenes       99,485 entries\n",
      "                 compound     17,752 entries\n",
      "                 glycan       10,994 entries\n",
      "                 reaction     10,252 entries\n",
      "                 rpair               entries\n",
      "                 rclass        3,059 entries\n",
      "                 enzyme        6,791 entries\n",
      "\n"
     ]
    }
   ],
   "source": [
    "# check the connection to KEGG\n",
    "print(kegg_info(\"kegg\").read())"
   ]
  },
  {
   "cell_type": "code",
   "execution_count": 7,
   "metadata": {
    "collapsed": false
   },
   "outputs": [],
   "source": [
    "mouseGenesKEGG_pathways = kegg_list(\"pathway\", \"mmu\").read()"
   ]
  },
  {
   "cell_type": "code",
   "execution_count": 8,
   "metadata": {
    "collapsed": false
   },
   "outputs": [],
   "source": [
    "mouseGenesKEGG_pathwayNames = [line.split(\"\\t\") for line in mouseGenesKEGG_pathways.split(\"\\n\")]"
   ]
  },
  {
   "cell_type": "markdown",
   "metadata": {},
   "source": [
    "To get all genes for all pathways of mus musculus, the command kegg_get was used on every pathway ID. A suitable datastructure for storing all data (pathway ID, pathway description and appropriated genes) seems to be a python dictionary with the pathway ID as key. Just the gene names of every gene were stored."
   ]
  },
  {
   "cell_type": "code",
   "execution_count": 9,
   "metadata": {
    "collapsed": true
   },
   "outputs": [],
   "source": [
    "# initialise dictionary\n",
    "mousePathway = {} \n",
    "\n",
    "# loop over all pathways to get all genes for each pathway\n",
    "for l in mouseGenesKEGG_pathwayNames[:-1]:\n",
    "    \n",
    "    # get all genes of a pathway\n",
    "    temp_genes = kegg_get(l[0]).read()\n",
    "    \n",
    "    if \"GENE\" in temp_genes:\n",
    "        # get all genes if this pathway contains genes\n",
    "        temp_genes = temp_genes.replace(\"COMPOUND\", \"GENE\").split(\"GENE\")[1].split(\"\\n\")\n",
    "        \n",
    "        # create a list, starting with the pathway description followed by all genes in that pathway\n",
    "        pathway_info = [l[1]] + [gene.split(\";\")[0].split(\" \")[-1] for gene in temp_genes[:-1]]\n",
    "    else:\n",
    "        # else report just the pathway description as info\n",
    "        pathway_info = [l[1]]\n",
    "    \n",
    "    # set the pathway id as key for the dictionary and fill it with the information list (description and genes)\n",
    "    mousePathway[l[0]] = pathway_info"
   ]
  },
  {
   "cell_type": "markdown",
   "metadata": {},
   "source": [
    "### Subtask 1.2: Save the KEGG gene sets as a gmt file after you made sure they have the proper gene ids with respect to your DE analysis"
   ]
  },
  {
   "cell_type": "markdown",
   "metadata": {},
   "source": [
    "hints: \n",
    "\n",
    "http://biopython.org/wiki/Annotate_Entrez_Gene_IDs\n",
    "\n",
    "http://www.broadinstitute.org/cancer/software/gsea/wiki/index.php/Data_formats"
   ]
  },
  {
   "cell_type": "code",
   "execution_count": 10,
   "metadata": {
    "collapsed": false
   },
   "outputs": [],
   "source": [
    "# initialise outfile\n",
    "with open(DIR + \"CompleteMousePathway.gmt\", \"w\") as out:\n",
    "    # emptystring for final save\n",
    "    mouseGmt = \"\"\n",
    "    for k in mousePathway:\n",
    "        mouseGmt += k + \"\\t\" + str(mousePathway[k]).replace(\"'\", \"\")\\\n",
    "                                                   .replace(\"]\", \"\")\\\n",
    "                                                   .replace(\"[\", \"\")\\\n",
    "                                                   .replace(\", \", \"\\t\")\\\n",
    "                    + \"\\n\"\n",
    "                     \n",
    "    out.write(mouseGmt)"
   ]
  },
  {
   "cell_type": "markdown",
   "metadata": {},
   "source": [
    "## Task 2: Gene Set Enrichment"
   ]
  },
  {
   "cell_type": "markdown",
   "metadata": {},
   "source": [
    "### Subtask 2.1: Read in the csv file you produced during the Differential Expression module, extract a gene list (as a python list of gene symbols) from your favorite multiple correction column (and store it in a variable)"
   ]
  },
  {
   "cell_type": "code",
   "execution_count": 12,
   "metadata": {
    "collapsed": false
   },
   "outputs": [],
   "source": [
    "fullMHTTable = pd.read_csv(DIR + \"MHTsandFC.csv\", index_col=0)"
   ]
  },
  {
   "cell_type": "code",
   "execution_count": 13,
   "metadata": {
    "collapsed": false
   },
   "outputs": [
    {
     "data": {
      "text/html": [
       "<div>\n",
       "<table border=\"1\" class=\"dataframe\">\n",
       "  <thead>\n",
       "    <tr style=\"text-align: right;\">\n",
       "      <th></th>\n",
       "      <th>p_value</th>\n",
       "      <th>sidak_cor_pval</th>\n",
       "      <th>holm-sidak_cor_pval</th>\n",
       "      <th>holm_cor_pval</th>\n",
       "      <th>simes-hochberg_cor_pval</th>\n",
       "      <th>hommel_cor_pval</th>\n",
       "      <th>fdr_bh_cor_pval</th>\n",
       "      <th>fdr_by_cor_pval</th>\n",
       "      <th>fdr_tsbh_cor_pval</th>\n",
       "      <th>fdr_tsbky_cor_pval</th>\n",
       "      <th>log2FC</th>\n",
       "    </tr>\n",
       "  </thead>\n",
       "  <tbody>\n",
       "    <tr>\n",
       "      <th>Igh</th>\n",
       "      <td>8.634098e-08</td>\n",
       "      <td>1.883393e-03</td>\n",
       "      <td>1.720503e-03</td>\n",
       "      <td>1.721984e-03</td>\n",
       "      <td>1.721725e-03</td>\n",
       "      <td>1.517184e-03</td>\n",
       "      <td>9.953373e-07</td>\n",
       "      <td>1.051919e-05</td>\n",
       "      <td>4.384973e-07</td>\n",
       "      <td>4.653523e-07</td>\n",
       "      <td>0.036313</td>\n",
       "    </tr>\n",
       "    <tr>\n",
       "      <th>Hcfc2</th>\n",
       "      <td>8.742707e-05</td>\n",
       "      <td>8.517664e-01</td>\n",
       "      <td>7.667686e-01</td>\n",
       "      <td>1.000000e+00</td>\n",
       "      <td>5.000000e-01</td>\n",
       "      <td>4.995801e-01</td>\n",
       "      <td>3.677223e-04</td>\n",
       "      <td>3.886259e-03</td>\n",
       "      <td>1.620006e-04</td>\n",
       "      <td>1.719221e-04</td>\n",
       "      <td>0.019963</td>\n",
       "    </tr>\n",
       "    <tr>\n",
       "      <th>Ccdc112</th>\n",
       "      <td>1.072951e-11</td>\n",
       "      <td>2.342685e-07</td>\n",
       "      <td>2.305239e-07</td>\n",
       "      <td>2.305236e-07</td>\n",
       "      <td>2.305129e-07</td>\n",
       "      <td>2.250516e-07</td>\n",
       "      <td>6.657274e-10</td>\n",
       "      <td>7.035715e-09</td>\n",
       "      <td>2.932872e-10</td>\n",
       "      <td>3.112491e-10</td>\n",
       "      <td>0.077491</td>\n",
       "    </tr>\n",
       "    <tr>\n",
       "      <th>EG635895</th>\n",
       "      <td>7.292464e-07</td>\n",
       "      <td>1.579628e-02</td>\n",
       "      <td>1.394280e-02</td>\n",
       "      <td>1.404091e-02</td>\n",
       "      <td>1.404091e-02</td>\n",
       "      <td>1.153522e-02</td>\n",
       "      <td>6.165232e-06</td>\n",
       "      <td>6.515702e-05</td>\n",
       "      <td>2.716102e-06</td>\n",
       "      <td>2.882445e-06</td>\n",
       "      <td>0.064943</td>\n",
       "    </tr>\n",
       "    <tr>\n",
       "      <th>Srp72</th>\n",
       "      <td>3.539137e-01</td>\n",
       "      <td>1.000000e+00</td>\n",
       "      <td>1.000000e+00</td>\n",
       "      <td>1.000000e+00</td>\n",
       "      <td>5.000000e-01</td>\n",
       "      <td>5.000000e-01</td>\n",
       "      <td>3.899639e-01</td>\n",
       "      <td>1.000000e+00</td>\n",
       "      <td>1.717992e-01</td>\n",
       "      <td>1.823207e-01</td>\n",
       "      <td>0.000477</td>\n",
       "    </tr>\n",
       "  </tbody>\n",
       "</table>\n",
       "</div>"
      ],
      "text/plain": [
       "               p_value  sidak_cor_pval  holm-sidak_cor_pval  holm_cor_pval  \\\n",
       "Igh       8.634098e-08    1.883393e-03         1.720503e-03   1.721984e-03   \n",
       "Hcfc2     8.742707e-05    8.517664e-01         7.667686e-01   1.000000e+00   \n",
       "Ccdc112   1.072951e-11    2.342685e-07         2.305239e-07   2.305236e-07   \n",
       "EG635895  7.292464e-07    1.579628e-02         1.394280e-02   1.404091e-02   \n",
       "Srp72     3.539137e-01    1.000000e+00         1.000000e+00   1.000000e+00   \n",
       "\n",
       "          simes-hochberg_cor_pval  hommel_cor_pval  fdr_bh_cor_pval  \\\n",
       "Igh                  1.721725e-03     1.517184e-03     9.953373e-07   \n",
       "Hcfc2                5.000000e-01     4.995801e-01     3.677223e-04   \n",
       "Ccdc112              2.305129e-07     2.250516e-07     6.657274e-10   \n",
       "EG635895             1.404091e-02     1.153522e-02     6.165232e-06   \n",
       "Srp72                5.000000e-01     5.000000e-01     3.899639e-01   \n",
       "\n",
       "          fdr_by_cor_pval  fdr_tsbh_cor_pval  fdr_tsbky_cor_pval    log2FC  \n",
       "Igh          1.051919e-05       4.384973e-07        4.653523e-07  0.036313  \n",
       "Hcfc2        3.886259e-03       1.620006e-04        1.719221e-04  0.019963  \n",
       "Ccdc112      7.035715e-09       2.932872e-10        3.112491e-10  0.077491  \n",
       "EG635895     6.515702e-05       2.716102e-06        2.882445e-06  0.064943  \n",
       "Srp72        1.000000e+00       1.717992e-01        1.823207e-01  0.000477  "
      ]
     },
     "execution_count": 13,
     "metadata": {},
     "output_type": "execute_result"
    }
   ],
   "source": [
    "fullMHTTable.head()"
   ]
  },
  {
   "cell_type": "markdown",
   "metadata": {},
   "source": [
    "Two different gene lists are required for further analysis. One with all genes with are in both datasets, all genes which are occuring in the expressed genes and the genes from the KEGG, one with DE genes."
   ]
  },
  {
   "cell_type": "code",
   "execution_count": 14,
   "metadata": {
    "collapsed": false
   },
   "outputs": [],
   "source": [
    "# all genes in KEGG, ignore the description they will automatically be removed in the next step\n",
    "keggenes = []\n",
    "for k in mousePathway:\n",
    "    keggenes.extend(mousePathway[k])\n",
    "\n",
    "# all genes in expression data\n",
    "exprgenes = [str(gene) for gene in fullMHTTable.index.values]\n",
    "\n",
    "# genes in both datasets\n",
    "commongenes = list(set(keggenes) & set(exprgenes))\n",
    "\n",
    "# differentially expressed genes\n",
    "diffexprgenes = [str(gene) for gene in fullMHTTable[fullMHTTable.sidak_cor_pval < 0.05].index.values]\n",
    "diffexprgenes = set(diffexprgenes) & set(commongenes)"
   ]
  },
  {
   "cell_type": "code",
   "execution_count": 15,
   "metadata": {
    "collapsed": false
   },
   "outputs": [],
   "source": [
    "crossDF = pd.DataFrame([[False, False]] * len(commongenes), index=commongenes, columns=[\"DE\", \"Pathway\"])\n",
    "crossDF.DE.loc[diffexprgenes] = True"
   ]
  },
  {
   "cell_type": "code",
   "execution_count": 16,
   "metadata": {
    "collapsed": false
   },
   "outputs": [
    {
     "data": {
      "text/html": [
       "<div>\n",
       "<table border=\"1\" class=\"dataframe\">\n",
       "  <thead>\n",
       "    <tr style=\"text-align: right;\">\n",
       "      <th></th>\n",
       "      <th>DE</th>\n",
       "      <th>Pathway</th>\n",
       "    </tr>\n",
       "  </thead>\n",
       "  <tbody>\n",
       "    <tr>\n",
       "      <th>Plekhg5</th>\n",
       "      <td>False</td>\n",
       "      <td>False</td>\n",
       "    </tr>\n",
       "    <tr>\n",
       "      <th>Nampt</th>\n",
       "      <td>False</td>\n",
       "      <td>False</td>\n",
       "    </tr>\n",
       "    <tr>\n",
       "      <th>Yod1</th>\n",
       "      <td>False</td>\n",
       "      <td>False</td>\n",
       "    </tr>\n",
       "    <tr>\n",
       "      <th>Rgs14</th>\n",
       "      <td>False</td>\n",
       "      <td>False</td>\n",
       "    </tr>\n",
       "    <tr>\n",
       "      <th>Shank3</th>\n",
       "      <td>False</td>\n",
       "      <td>False</td>\n",
       "    </tr>\n",
       "  </tbody>\n",
       "</table>\n",
       "</div>"
      ],
      "text/plain": [
       "            DE Pathway\n",
       "Plekhg5  False   False\n",
       "Nampt    False   False\n",
       "Yod1     False   False\n",
       "Rgs14    False   False\n",
       "Shank3   False   False"
      ]
     },
     "execution_count": 16,
     "metadata": {},
     "output_type": "execute_result"
    }
   ],
   "source": [
    "crossDF.head()"
   ]
  },
  {
   "cell_type": "markdown",
   "metadata": {},
   "source": [
    "### Subtask 2.2: Perform gene set enrichment (Fisher's exact test or an hypergeometric test will do for our purposes) with the KEGG gene sets you extracted in Task 1 (you may want to store the results in a pandas dataframe and write them to csv)"
   ]
  },
  {
   "cell_type": "markdown",
   "metadata": {},
   "source": [
    "hint:\n",
    "\n",
    "https://genetrail2.bioinf.uni-sb.de/help?topic=set_level_statistics"
   ]
  },
  {
   "cell_type": "code",
   "execution_count": 17,
   "metadata": {
    "collapsed": false
   },
   "outputs": [],
   "source": [
    "signPathways = pd.DataFrame([1.0] * len(mousePathway), index=mousePathway, columns=[\"p_value\"])"
   ]
  },
  {
   "cell_type": "code",
   "execution_count": 18,
   "metadata": {
    "collapsed": false
   },
   "outputs": [
    {
     "name": "stdout",
     "output_type": "stream",
     "text": [
      "0.175265232642\n"
     ]
    }
   ],
   "source": [
    "# test on one pathway\n",
    "pathwaygenes = list(set(mousePathway[\"path:mmu00010\"]) & set(commongenes))\n",
    "\n",
    "curCrossDF = crossDF.copy()\n",
    "curCrossDF.Pathway.loc[pathwaygenes] = True\n",
    "ct = pd.crosstab((curCrossDF.DE == True).replace([False, True], [\"not DE\", \"DE\"]), \n",
    "                 (curCrossDF.Pathway == True).replace([False, True], [\"not Pathway\", \"Pathway\"]),\n",
    "                 margins=True)\n",
    "n = ct.All.DE\n",
    "l = ct.Pathway.All\n",
    "m = ct.All.All\n",
    "k = ct.Pathway.DE\n",
    "\n",
    "kprime = (n * l) / m\n",
    "\n",
    "if kprime >= k:\n",
    "    print hypergeom.cdf(k, m, l, n)\n",
    "else:\n",
    "    print hypergeom.sf(k-1, m, l, n)"
   ]
  },
  {
   "cell_type": "code",
   "execution_count": 19,
   "metadata": {
    "collapsed": false,
    "scrolled": true
   },
   "outputs": [],
   "source": [
    "# for all pathways\n",
    "for key in mousePathway:\n",
    "    # get all possible pathway genes\n",
    "    pathwaygenes = list(set(mousePathway[key]) & set(commongenes))\n",
    "    \n",
    "    if len(pathwaygenes) == 0:\n",
    "        continue\n",
    "\n",
    "    # prepare a cross table for the current pathway \n",
    "    curCrossDF = crossDF.copy()\n",
    "    curCrossDF.Pathway.loc[pathwaygenes] = True\n",
    "    ct = pd.crosstab((curCrossDF.DE == True).replace([False, True], [\"not DE\", \"DE\"]), \n",
    "                     (curCrossDF.Pathway == True).replace([False, True], [\"not Pathway\", \"Pathway\"]),\n",
    "                     margins=True)\n",
    "    # get the variables according to GeneTrail\n",
    "    n = ct.All.DE\n",
    "    l = ct.Pathway.All\n",
    "    m = ct.All.All\n",
    "    k = ct.Pathway.DE\n",
    "    kprime = (n * l) / m\n",
    "\n",
    "    # select the hypergeometric test and store it\n",
    "    if kprime >= k:\n",
    "        signPathways.p_value.loc[key] = hypergeom.cdf(k, m, l, n)\n",
    "    else:\n",
    "        signPathways.p_value.loc[key] = hypergeom.sf(k-1, m, l, n)"
   ]
  },
  {
   "cell_type": "code",
   "execution_count": 20,
   "metadata": {
    "collapsed": true
   },
   "outputs": [],
   "source": [
    "signPathways.to_csv(DIR + \"SignificantPathways.csv\", na_rep=\"x\")"
   ]
  },
  {
   "cell_type": "markdown",
   "metadata": {},
   "source": [
    "### Subtask 2.3: Extract a list of significantly (at 0.05 significance) enriched KEGG pathways"
   ]
  },
  {
   "cell_type": "code",
   "execution_count": 21,
   "metadata": {
    "collapsed": false
   },
   "outputs": [],
   "source": [
    "res = multipletests(signPathways.p_value.values, alpha=0.05, method=\"sidak\")\n",
    "res = pd.DataFrame([res[1], res[0]], index =[\"sidak_cor_pval\", \"sidak_rej\"], columns=signPathways.index).T\n",
    "signPathways = signPathways.join(res)"
   ]
  },
  {
   "cell_type": "code",
   "execution_count": 22,
   "metadata": {
    "collapsed": false
   },
   "outputs": [
    {
     "data": {
      "text/html": [
       "<div>\n",
       "<table border=\"1\" class=\"dataframe\">\n",
       "  <thead>\n",
       "    <tr style=\"text-align: right;\">\n",
       "      <th></th>\n",
       "      <th>p_value</th>\n",
       "      <th>sidak_cor_pval</th>\n",
       "      <th>sidak_rej</th>\n",
       "    </tr>\n",
       "  </thead>\n",
       "  <tbody>\n",
       "    <tr>\n",
       "      <th>path:mmu00052</th>\n",
       "      <td>3.669043e-02</td>\n",
       "      <td>0.999987</td>\n",
       "      <td>False</td>\n",
       "    </tr>\n",
       "    <tr>\n",
       "      <th>path:mmu00190</th>\n",
       "      <td>1.199564e-02</td>\n",
       "      <td>0.973868</td>\n",
       "      <td>False</td>\n",
       "    </tr>\n",
       "    <tr>\n",
       "      <th>path:mmu00512</th>\n",
       "      <td>3.124239e-02</td>\n",
       "      <td>0.999931</td>\n",
       "      <td>False</td>\n",
       "    </tr>\n",
       "    <tr>\n",
       "      <th>path:mmu05202</th>\n",
       "      <td>2.181985e-02</td>\n",
       "      <td>0.998722</td>\n",
       "      <td>False</td>\n",
       "    </tr>\n",
       "    <tr>\n",
       "      <th>path:mmu05016</th>\n",
       "      <td>9.387543e-03</td>\n",
       "      <td>0.942065</td>\n",
       "      <td>False</td>\n",
       "    </tr>\n",
       "    <tr>\n",
       "      <th>path:mmu05010</th>\n",
       "      <td>1.864683e-02</td>\n",
       "      <td>0.996602</td>\n",
       "      <td>False</td>\n",
       "    </tr>\n",
       "    <tr>\n",
       "      <th>path:mmu05012</th>\n",
       "      <td>2.834375e-03</td>\n",
       "      <td>0.57565</td>\n",
       "      <td>False</td>\n",
       "    </tr>\n",
       "    <tr>\n",
       "      <th>path:mmu05332</th>\n",
       "      <td>1.826097e-03</td>\n",
       "      <td>0.424195</td>\n",
       "      <td>False</td>\n",
       "    </tr>\n",
       "    <tr>\n",
       "      <th>path:mmu04390</th>\n",
       "      <td>1.112213e-02</td>\n",
       "      <td>0.965874</td>\n",
       "      <td>False</td>\n",
       "    </tr>\n",
       "    <tr>\n",
       "      <th>path:mmu04962</th>\n",
       "      <td>1.675708e-02</td>\n",
       "      <td>0.993925</td>\n",
       "      <td>False</td>\n",
       "    </tr>\n",
       "    <tr>\n",
       "      <th>path:mmu03060</th>\n",
       "      <td>3.307674e-02</td>\n",
       "      <td>0.999961</td>\n",
       "      <td>False</td>\n",
       "    </tr>\n",
       "    <tr>\n",
       "      <th>path:mmu04530</th>\n",
       "      <td>1.407428e-02</td>\n",
       "      <td>0.986166</td>\n",
       "      <td>False</td>\n",
       "    </tr>\n",
       "    <tr>\n",
       "      <th>path:mmu04141</th>\n",
       "      <td>1.907850e-03</td>\n",
       "      <td>0.438263</td>\n",
       "      <td>False</td>\n",
       "    </tr>\n",
       "    <tr>\n",
       "      <th>path:mmu03040</th>\n",
       "      <td>5.982958e-03</td>\n",
       "      <td>0.836719</td>\n",
       "      <td>False</td>\n",
       "    </tr>\n",
       "    <tr>\n",
       "      <th>path:mmu04740</th>\n",
       "      <td>1.342473e-13</td>\n",
       "      <td>4.05362e-11</td>\n",
       "      <td>True</td>\n",
       "    </tr>\n",
       "    <tr>\n",
       "      <th>path:mmu04940</th>\n",
       "      <td>5.893117e-03</td>\n",
       "      <td>0.832201</td>\n",
       "      <td>False</td>\n",
       "    </tr>\n",
       "    <tr>\n",
       "      <th>path:mmu04925</th>\n",
       "      <td>2.625141e-02</td>\n",
       "      <td>0.999676</td>\n",
       "      <td>False</td>\n",
       "    </tr>\n",
       "    <tr>\n",
       "      <th>path:mmu05330</th>\n",
       "      <td>4.223097e-03</td>\n",
       "      <td>0.721427</td>\n",
       "      <td>False</td>\n",
       "    </tr>\n",
       "    <tr>\n",
       "      <th>path:mmu00970</th>\n",
       "      <td>1.675708e-02</td>\n",
       "      <td>0.993925</td>\n",
       "      <td>False</td>\n",
       "    </tr>\n",
       "    <tr>\n",
       "      <th>path:mmu04120</th>\n",
       "      <td>2.584308e-03</td>\n",
       "      <td>0.542268</td>\n",
       "      <td>False</td>\n",
       "    </tr>\n",
       "    <tr>\n",
       "      <th>path:mmu02010</th>\n",
       "      <td>1.158654e-02</td>\n",
       "      <td>0.970388</td>\n",
       "      <td>False</td>\n",
       "    </tr>\n",
       "    <tr>\n",
       "      <th>path:mmu03013</th>\n",
       "      <td>1.122688e-03</td>\n",
       "      <td>0.28769</td>\n",
       "      <td>False</td>\n",
       "    </tr>\n",
       "    <tr>\n",
       "      <th>path:mmu04110</th>\n",
       "      <td>4.988211e-02</td>\n",
       "      <td>1</td>\n",
       "      <td>False</td>\n",
       "    </tr>\n",
       "    <tr>\n",
       "      <th>path:mmu04114</th>\n",
       "      <td>3.602495e-02</td>\n",
       "      <td>0.999985</td>\n",
       "      <td>False</td>\n",
       "    </tr>\n",
       "  </tbody>\n",
       "</table>\n",
       "</div>"
      ],
      "text/plain": [
       "                    p_value sidak_cor_pval sidak_rej\n",
       "path:mmu00052  3.669043e-02       0.999987     False\n",
       "path:mmu00190  1.199564e-02       0.973868     False\n",
       "path:mmu00512  3.124239e-02       0.999931     False\n",
       "path:mmu05202  2.181985e-02       0.998722     False\n",
       "path:mmu05016  9.387543e-03       0.942065     False\n",
       "path:mmu05010  1.864683e-02       0.996602     False\n",
       "path:mmu05012  2.834375e-03        0.57565     False\n",
       "path:mmu05332  1.826097e-03       0.424195     False\n",
       "path:mmu04390  1.112213e-02       0.965874     False\n",
       "path:mmu04962  1.675708e-02       0.993925     False\n",
       "path:mmu03060  3.307674e-02       0.999961     False\n",
       "path:mmu04530  1.407428e-02       0.986166     False\n",
       "path:mmu04141  1.907850e-03       0.438263     False\n",
       "path:mmu03040  5.982958e-03       0.836719     False\n",
       "path:mmu04740  1.342473e-13    4.05362e-11      True\n",
       "path:mmu04940  5.893117e-03       0.832201     False\n",
       "path:mmu04925  2.625141e-02       0.999676     False\n",
       "path:mmu05330  4.223097e-03       0.721427     False\n",
       "path:mmu00970  1.675708e-02       0.993925     False\n",
       "path:mmu04120  2.584308e-03       0.542268     False\n",
       "path:mmu02010  1.158654e-02       0.970388     False\n",
       "path:mmu03013  1.122688e-03        0.28769     False\n",
       "path:mmu04110  4.988211e-02              1     False\n",
       "path:mmu04114  3.602495e-02       0.999985     False"
      ]
     },
     "execution_count": 22,
     "metadata": {},
     "output_type": "execute_result"
    }
   ],
   "source": [
    "signPathways[signPathways.p_value < 0.05]"
   ]
  },
  {
   "cell_type": "code",
   "execution_count": 23,
   "metadata": {
    "collapsed": false
   },
   "outputs": [
    {
     "data": {
      "text/html": [
       "<div>\n",
       "<table border=\"1\" class=\"dataframe\">\n",
       "  <thead>\n",
       "    <tr style=\"text-align: right;\">\n",
       "      <th></th>\n",
       "      <th>p_value</th>\n",
       "      <th>sidak_cor_pval</th>\n",
       "      <th>sidak_rej</th>\n",
       "    </tr>\n",
       "  </thead>\n",
       "  <tbody>\n",
       "    <tr>\n",
       "      <th>path:mmu04740</th>\n",
       "      <td>1.342473e-13</td>\n",
       "      <td>4.05362e-11</td>\n",
       "      <td>True</td>\n",
       "    </tr>\n",
       "  </tbody>\n",
       "</table>\n",
       "</div>"
      ],
      "text/plain": [
       "                    p_value sidak_cor_pval sidak_rej\n",
       "path:mmu04740  1.342473e-13    4.05362e-11      True"
      ]
     },
     "execution_count": 23,
     "metadata": {},
     "output_type": "execute_result"
    }
   ],
   "source": [
    "signPathways[signPathways.sidak_rej == True]"
   ]
  },
  {
   "cell_type": "markdown",
   "metadata": {},
   "source": [
    "After multiple hypothesis testing with the Sidak method, just one pathway (mmu04740) remains as significant aftergene set enrichment. Without the correction it would have been 24 pathways."
   ]
  },
  {
   "cell_type": "markdown",
   "metadata": {},
   "source": [
    "## Task 3: KEGG map visualization"
   ]
  },
  {
   "cell_type": "markdown",
   "metadata": {},
   "source": [
    "#### hint:\n",
    "\n",
    "http://nbviewer.jupyter.org/github/widdowquinn/notebooks/blob/master/Biopython_KGML_intro.ipynb\n",
    "\n",
    "#### remark:\n",
    "\n",
    "In real life you may want to use the R-based tool pathview: https://bioconductor.org/packages/release/bioc/html/pathview.html (if you insist you can also try to use r2py for using pathview from Python during the practical)\n",
    "\n",
    "For Python (in addition to the Biopyhton module) https://github.com/idekerlab/py2cytoscape in combination with https://github.com/idekerlab/KEGGscape may be another alternative (in the future)\n",
    "\n",
    "Generally speaking, it is always a good idea to pay attention also to other pathway databases like Reactome or WikiPathways ..."
   ]
  },
  {
   "cell_type": "markdown",
   "metadata": {},
   "source": [
    "### Subtask 3.1: Pick some significantly enriched KEGG pathways of your choice from 2.3 and visualize them"
   ]
  },
  {
   "cell_type": "code",
   "execution_count": 31,
   "metadata": {
    "collapsed": false
   },
   "outputs": [
    {
     "data": {
      "image/png": "[encoded data removed]",
      "text/plain": [
       "<IPython.core.display.Image object>"
      ]
     },
     "execution_count": 31,
     "metadata": {},
     "output_type": "execute_result"
    }
   ],
   "source": [
    "significantPathway = str(signPathways[signPathways.sidak_rej == True].index.values).replace(\"['\", \"\").replace(\"']\", \"\")\n",
    "Image(kegg_get(significantPathway, \"image\").read())"
   ]
  },
  {
   "cell_type": "markdown",
   "metadata": {},
   "source": [
    "### Subtask 3.2: Define a a suitable binary color scheme respresenting the fact whether a gene is significantly expressed or not"
   ]
  },
  {
   "cell_type": "markdown",
   "metadata": {},
   "source": [
    "hint: \n",
    "\n",
    "http://www.rapidtables.com/web/color/RGB_Color.htm"
   ]
  },
  {
   "cell_type": "markdown",
   "metadata": {},
   "source": [
    "Due to the fact that it is just relevant to spot whether a gene is differentially expressed or not, differentially exressed genes could get coloured magenta (#FF00FF), whereas not differentially expressed genes stay in the pale green which seems to be the standard colour in KEGG pathways. Therefore magenta was chosen and not red, because even people with dyschromatopsia are able to differentiate this colour from green."
   ]
  },
  {
   "cell_type": "markdown",
   "metadata": {},
   "source": [
    "### Subtask 3.3: Visualize the pathway(s) from 3.1 in such a way that the included genes have the corresponding color from 3.2 ( you may need to define a suitable mapping from single genes to what is actually shown in the pathway map...)"
   ]
  },
  {
   "cell_type": "code",
   "execution_count": 41,
   "metadata": {
    "collapsed": true
   },
   "outputs": [],
   "source": [
    "def PDF(filename):\n",
    "    return HTML('<iframe src=%s width=975 height=650></iframe>' % filename)"
   ]
  },
  {
   "cell_type": "code",
   "execution_count": 229,
   "metadata": {
    "collapsed": false
   },
   "outputs": [],
   "source": [
    "def colouredDEPathway(pw, degenes, de=\"#FF00FF\", notDE=\"#CCFFCC\", dir_=\"\"):\n",
    "    '''\n",
    "    function to draw a pathway with coloured pathway steps\n",
    "    \n",
    "    pw\n",
    "        String name of the pathway which shall be drawn\n",
    "    degenes\n",
    "        list of Strings with names of differentially expressed genes\n",
    "    de/notDE\n",
    "        String with hex to define the colour for differentially expressed or not, by default #FF00FF and #CCFFCC\n",
    "    dir_\n",
    "        String with the storing directory of the pdf file, by default \"\"\n",
    "        \n",
    "    function returns a pdf image inside the notebook\n",
    "    '''\n",
    "    pathway = KGML_parser.read(kegg_get(pw, \"kgml\"))\n",
    "\n",
    "    # Change the colours of gene elements if one gene in the step is differentially expressed\n",
    "    for element in pathway.genes:\n",
    "        \n",
    "        # set not differentially expressed colour\n",
    "        for graphic in element.graphics:\n",
    "            graphic.bgcolor = notDE\n",
    "        # get all ncbi gene ids of the element\n",
    "        for n in element.name.split():\n",
    "            # get the kegg entry of the gene id and extract the symbol names\n",
    "            geneInfo = kegg_get(n).read()\n",
    "            if \"NAME\" in geneInfo:\n",
    "                # check the genes in the pathway with the differentially expressed genes\n",
    "                dEGenes = len(set(geneInfo.split(\"NAME\")[1].split(\"\\n\")[0].strip().split(\", \")) & set(degenes))\n",
    "\n",
    "                # if one gene of the differential expressed genes is in the pathway step colour the step box and break\n",
    "                # the loop over the genes in the pathway step and continue with the next element\n",
    "                if dEGenes > 0:\n",
    "                    for graphic in element.graphics:\n",
    "                        graphic.bgcolor = de\n",
    "                    break\n",
    "\n",
    "    # drawing of the pathway like described on http://www.rapidtables.com/web/color/RGB_Color.htm\n",
    "    canvas = KGMLCanvas(pathway, import_imagemap=True)\n",
    "    canvas.draw(dir_ + \"ColouredDEPathway.pdf\")\n",
    "    return PDF(dir_ + \"ColouredDEPathway.pdf\")"
   ]
  },
  {
   "cell_type": "code",
   "execution_count": 230,
   "metadata": {
    "collapsed": false
   },
   "outputs": [
    {
     "data": {
      "text/html": [
       "<iframe src=InOutDirectory/ColouredDEPathway.pdf width=975 height=650></iframe>"
      ],
      "text/plain": [
       "<IPython.core.display.HTML object>"
      ]
     },
     "execution_count": 230,
     "metadata": {},
     "output_type": "execute_result"
    }
   ],
   "source": [
    "colouredDEPathway(significantPathway, diffexprgenes, dir_=DIR)"
   ]
  },
  {
   "cell_type": "markdown",
   "metadata": {},
   "source": [
    "### Subtask 3.4: Define a suitable continuous color range representing the log2 fold changes of the all the genes in your data"
   ]
  },
  {
   "cell_type": "markdown",
   "metadata": {},
   "source": [
    "hint:\n",
    "\n",
    "http://bsou.io/posts/color-gradients-with-python"
   ]
  },
  {
   "cell_type": "code",
   "execution_count": 136,
   "metadata": {
    "collapsed": false
   },
   "outputs": [],
   "source": [
    "def hex_to_RGB(hex):\n",
    "    ''' \"#FFFFFF\" -> [255,255,255] '''\n",
    "    # Pass 16 to the integer function for change of base\n",
    "    return [int(hex[i:i+2], 16) for i in range(1,6,2)]\n",
    "\n",
    "def RGB_to_hex(RGB):\n",
    "    ''' [255,255,255] -> \"#FFFFFF\" '''\n",
    "    # Components need to be integers for hex to make sense\n",
    "    RGB = [int(x) for x in RGB]\n",
    "    return \"#\"+\"\".join([\"0{0:x}\".format(v) if v < 16 else\n",
    "                        \"{0:x}\".format(v) for v in RGB])\n",
    "\n",
    "def color_dict(gradient):\n",
    "    ''' Takes in a list of RGB sub-lists and returns dictionary of\n",
    "    colors in RGB and hex form for use in a graphing function\n",
    "    defined later on '''\n",
    "    return {\"hex\":[RGB_to_hex(RGB) for RGB in gradient],\n",
    "            \"r\":[RGB[0] for RGB in gradient],\n",
    "            \"g\":[RGB[1] for RGB in gradient],\n",
    "            \"b\":[RGB[2] for RGB in gradient]}\n",
    "\n",
    "def linear_gradient(start_hex, finish_hex=\"#FFFFFF\", n=10):\n",
    "    ''' returns a gradient list of (n) colors between\n",
    "    two hex colors. start_hex and finish_hex\n",
    "    should be the full six-digit color string,\n",
    "    inlcuding the number sign (\"#FFFFFF\") '''\n",
    "    # Starting and ending colors in RGB form\n",
    "    s = hex_to_RGB(start_hex)\n",
    "    f = hex_to_RGB(finish_hex)\n",
    "    # Initilize a list of the output colors with the starting color\n",
    "    RGB_list = [s]\n",
    "    # Calcuate a color at each evenly spaced value of t from 1 to n\n",
    "    for t in range(1, n):\n",
    "        # Interpolate RGB vector for color at the current value of t\n",
    "        curr_vector = [\n",
    "            int(s[j] + (float(t)/(n-1))*(f[j]-s[j]))\n",
    "            for j in range(3)\n",
    "        ]\n",
    "        # Add it to our list of output colors\n",
    "        RGB_list.append(curr_vector)\n",
    "\n",
    "    return color_dict(RGB_list)\n",
    "\n",
    "def polylinear_gradient(colors, n):\n",
    "    ''' returns a list of colors forming linear gradients between\n",
    "      all sequential pairs of colors. \"n\" specifies the total\n",
    "      number of desired output colors '''\n",
    "    # The number of colors per individual linear gradient\n",
    "    n_out = int(float(n) / (len(colors) - 1))\n",
    "    # returns dictionary defined by color_dict()\n",
    "    gradient_dict = linear_gradient(colors[0], colors[1], n_out)\n",
    "\n",
    "    if len(colors) > 1:\n",
    "        for col in range(1, len(colors) - 1):\n",
    "            next = linear_gradient(colors[col], colors[col+1], n_out)\n",
    "            for k in (\"hex\", \"r\", \"g\", \"b\"):\n",
    "                # Exclude first point to avoid duplicates\n",
    "                gradient_dict[k] += next[k][1:]\n",
    "\n",
    "    return gradient_dict"
   ]
  },
  {
   "cell_type": "code",
   "execution_count": 185,
   "metadata": {
    "collapsed": false
   },
   "outputs": [],
   "source": [
    "def colourDict(l2fc, stepsize=0.1):\n",
    "    '''\n",
    "    function that generates a diverging colour dictionary onto a log2 fold change series\n",
    "    \n",
    "    l2fc\n",
    "        list or np.array with all log2 fold changes\n",
    "    steps\n",
    "        float value of stepsize of the range, by default 11\n",
    "        \n",
    "    function returns a dictionary\n",
    "    '''\n",
    "    \n",
    "    # get the range of the values, round and \"ceil\" it to one digit\n",
    "    r = round(np.ceil(max(abs(np.array(l2fc))) * 10) / 10, 1)\n",
    "    \n",
    "    # create a range of -r to r with stepsize\n",
    "    bins = np.arange(-r, r+stepsize, stepsize)\n",
    "    \n",
    "    # create a colour gradient with the functions from http://bsou.io/posts/color-gradients-with-python\n",
    "    # from yellow over white to blue\n",
    "    colours = polylinear_gradient([\"#FFF200\", \"FFFFFF\", \"0066FF\"], len(bins) + 1)[\"hex\"]\n",
    "    \n",
    "    # create the dictionary\n",
    "    cD = {}\n",
    "    for i, b in enumerate(bins):\n",
    "        cD[round(b, 1)] = colours[i]\n",
    "    \n",
    "    return cD"
   ]
  },
  {
   "cell_type": "code",
   "execution_count": 186,
   "metadata": {
    "collapsed": false
   },
   "outputs": [],
   "source": [
    "colDict = colourDict(fullMHTTable.log2FC.values)"
   ]
  },
  {
   "cell_type": "markdown",
   "metadata": {},
   "source": [
    "Due to the fact, that the funciton from http://bsou.io/posts/color-gradients-with-python does not seem to work the way I expect it to work, here is an alternative manual created colour dictionary with the help of http://hslpicker.com/. Because this shows a colour gradient of yellow over white to blue! Not yellow and green..."
   ]
  },
  {
   "cell_type": "code",
   "execution_count": 214,
   "metadata": {
    "collapsed": true
   },
   "outputs": [],
   "source": [
    "colDictTwo = {}\n",
    "colDictTwo[-0.5] = \"#fff200\"\n",
    "colDictTwo[-0.4] = \"#fff533\"\n",
    "colDictTwo[-0.3] = \"#fff766\"\n",
    "colDictTwo[-0.2] = \"#fffa99\"\n",
    "colDictTwo[-0.1] = \"#fffccc\"\n",
    "colDictTwo[0.0] = \"#ffffff\"\n",
    "colDictTwo[0.1] = \"#cce0ff\"\n",
    "colDictTwo[0.2] = \"#99c2ff\"\n",
    "colDictTwo[0.3] = \"#66arff\"\n",
    "colDictTwo[0.4] = \"#3385ff\"\n",
    "colDictTwo[0.5] = \"#0066ff\""
   ]
  },
  {
   "cell_type": "markdown",
   "metadata": {},
   "source": [
    "### Subtask 3.5: Visualize the pathway(s) from 3.1 in such a way that the included genes have the corresponding color from 3.4"
   ]
  },
  {
   "cell_type": "code",
   "execution_count": 212,
   "metadata": {
    "collapsed": false
   },
   "outputs": [
    {
     "data": {
      "text/plain": [
       "{-0.5: '#fff200',\n",
       " -0.4: '#fff403',\n",
       " -0.3: '#fff706',\n",
       " -0.2: '#fff909',\n",
       " -0.1: '#fffc0c',\n",
       " -0.0: '#ffff0f',\n",
       " 0.1: '#cde20f',\n",
       " 0.2: '#9bc50f',\n",
       " 0.3: '#69a80f',\n",
       " 0.4: '#378b0f',\n",
       " 0.5: '#066f0f'}"
      ]
     },
     "execution_count": 212,
     "metadata": {},
     "output_type": "execute_result"
    }
   ],
   "source": [
    "colDict"
   ]
  },
  {
   "cell_type": "code",
   "execution_count": 215,
   "metadata": {
    "collapsed": false
   },
   "outputs": [
    {
     "data": {
      "text/plain": [
       "{-0.5: '#fff200',\n",
       " -0.4: '#fff533',\n",
       " -0.3: '#fff766',\n",
       " -0.2: '#fffa99',\n",
       " -0.1: '#fffccc',\n",
       " 0.0: '#ffffff',\n",
       " 0.1: '#cce0ff',\n",
       " 0.2: '#99c2ff',\n",
       " 0.3: '#66arff',\n",
       " 0.4: '#3385ff',\n",
       " 0.5: '#0066ff'}"
      ]
     },
     "execution_count": 215,
     "metadata": {},
     "output_type": "execute_result"
    }
   ],
   "source": [
    "colDictTwo"
   ]
  },
  {
   "cell_type": "code",
   "execution_count": 217,
   "metadata": {
    "collapsed": false
   },
   "outputs": [],
   "source": [
    "def colouredFCPathway(pw, fcVals, colourRange, dir_=\"\"):\n",
    "    '''\n",
    "    function to draw a pathway with coloured pathway steps\n",
    "    \n",
    "    pw\n",
    "        String name of the pathway which shall be drawn\n",
    "    fcVals\n",
    "        pandas series with log2 fold changes of genes\n",
    "    colourRange\n",
    "        colour dict defined with the function colourDict applied onto the log2 fold change\n",
    "    dir_\n",
    "        String with the storing directory of the pdf file, by default \"\"\n",
    "        \n",
    "    function returns a pdf image inside the notebook\n",
    "    '''\n",
    "    pathway = KGML_parser.read(kegg_get(pw, \"kgml\"))\n",
    "\n",
    "    # Change the colours of gene elements according to the mean log2 fold change of all genes \n",
    "    # in the pathway step\n",
    "    for element in pathway.genes:\n",
    "        # get all ncbi gene ids of the element and store there log2 fold changes\n",
    "        ltfc = np.array([])\n",
    "        for n in element.name.split():\n",
    "            # get the kegg entry of the gene id and extract the symbol names\n",
    "            geneInfo = kegg_get(n).read()\n",
    "            if \"NAME\" in geneInfo:\n",
    "                # store all genes which are in the kegg database and the fcVals\n",
    "                genes = list(set(geneInfo.split(\"NAME\")[1].split(\"\\n\")[0].strip().split(\", \")) \n",
    "                             & set(fcVals.index.values))\n",
    "\n",
    "                # get the log2 fc value from the first found gene\n",
    "                ltfc = np.append(ltfc, fcVals[genes])\n",
    "                \n",
    "        \n",
    "        # get the mean of the log2 fold changes and order it to the dict\n",
    "        colour = colourRange[round(np.mean(ltfc), 1)]\n",
    "                    \n",
    "        for graphic in element.graphics:\n",
    "            graphic.bgcolor = colour\n",
    "\n",
    "    # drawing of the pathway like described on http://www.rapidtables.com/web/color/RGB_Color.htm\n",
    "    canvas = KGMLCanvas(pathway, import_imagemap=True)\n",
    "    canvas.draw(dir_ + \"ColouredFCPathway.pdf\")\n",
    "    return PDF(dir_ + \"ColouredFCPathway.pdf\")"
   ]
  },
  {
   "cell_type": "code",
   "execution_count": 218,
   "metadata": {
    "collapsed": false
   },
   "outputs": [
    {
     "name": "stdout",
     "output_type": "stream",
     "text": [
      "-4.044330282e-05\n",
      "-0.020517651832\n",
      "-0.00121969693118\n",
      "0.000364236939533\n",
      "-0.011206207855\n",
      "0.013364197867\n",
      "0.0542621620488\n",
      "-0.0149379642861\n",
      "-0.00940214751426\n",
      "-4.044330282e-05\n",
      "-0.00648860265161\n",
      "-0.0125283378336\n",
      "-0.00277883447118\n",
      "-0.020517651832\n",
      "-0.00121969693118\n",
      "-0.0219492160332\n",
      "-0.01948028303\n",
      "0.0120546187137\n",
      "0.013364197867\n",
      "0.0542621620488\n",
      "0.000364236939533\n",
      "-0.0149379642861\n",
      "0.0103007179785\n",
      "-0.0560543915383\n",
      "-0.0358941964511\n"
     ]
    },
    {
     "data": {
      "text/html": [
       "<iframe src=ColouredFCPathway.pdf width=975 height=650></iframe>"
      ],
      "text/plain": [
       "<IPython.core.display.HTML object>"
      ]
     },
     "execution_count": 218,
     "metadata": {},
     "output_type": "execute_result"
    }
   ],
   "source": [
    "colouredFCPathway(significantPathway, fullMHTTable.log2FC, colDictTwo, DIR)"
   ]
  },
  {
   "cell_type": "markdown",
   "metadata": {},
   "source": [
    "Alternative way to colour, because the mean of all the log2 fold changes of all genes in the pathway step is closely around 0. Therefore all steps get coloured white.\n",
    "Due to that, colour in the same way as for the differentially expressed genes, but not with the DE mark colour but it's fold change colour."
   ]
  },
  {
   "cell_type": "code",
   "execution_count": 228,
   "metadata": {
    "collapsed": false
   },
   "outputs": [],
   "source": [
    "def colouredDEFCPathway(pw, degenes, fcVals, colourRange, notDE=\"#CCFFCC\", dir_=\"\"):\n",
    "    '''\n",
    "    function to draw a pathway with coloured pathway steps\n",
    "    \n",
    "    pw\n",
    "        String name of the pathway which shall be drawn\n",
    "    degenes\n",
    "        list of Strings with names of differentially expressed genes\n",
    "    fcVals\n",
    "        pandas series with log2 fold changes of genes\n",
    "    colourRange\n",
    "        colour dict defined with the function colourDict applied onto the log2 fold change\n",
    "    notDE\n",
    "        String with hex to define the colour for not differentially expressed steps, by default #CCFFCC\n",
    "    dir_\n",
    "        String with the storing directory of the pdf file, by default \"\"\n",
    "        \n",
    "    function returns a pdf image inside the notebook\n",
    "    '''\n",
    "    pathway = KGML_parser.read(kegg_get(pw, \"kgml\"))\n",
    "\n",
    "    # Change the colours of gene elements if one gene in the step is differentially expressed\n",
    "    for element in pathway.genes:\n",
    "        \n",
    "        # set not differentially expressed colour\n",
    "        for graphic in element.graphics:\n",
    "            graphic.bgcolor = notDE\n",
    "        # get all ncbi gene ids of the element\n",
    "        for n in element.name.split():\n",
    "            # get the kegg entry of the gene id and extract the symbol names\n",
    "            geneInfo = kegg_get(n).read()\n",
    "            if \"NAME\" in geneInfo:\n",
    "                # check the genes in the pathway with the differentially expressed genes\n",
    "                dEGenes = set(geneInfo.split(\"NAME\")[1].split(\"\\n\")[0].strip().split(\", \")) & set(degenes)\n",
    "\n",
    "                # if at last one gene of the differential expressed genes is in the pathway step \n",
    "                # colour the step box according to the mean of those genes log2 fold change falues and break\n",
    "                # the loop over the genes in the pathway step and continue with the next element\n",
    "                if len(dEGenes) > 0:\n",
    "                    colour = colourRange[round(np.mean(fcVals[dEGenes]), 1)]\n",
    "                    for graphic in element.graphics:\n",
    "                        graphic.bgcolor = colour\n",
    "                    break\n",
    "\n",
    "    # drawing of the pathway like described on http://www.rapidtables.com/web/color/RGB_Color.htm\n",
    "    canvas = KGMLCanvas(pathway, import_imagemap=True)\n",
    "    canvas.draw(dir_ + \"ColouredDEFCPathway.pdf\")\n",
    "    return PDF(dir_ + \"ColouredDEFCPathway.pdf\")"
   ]
  },
  {
   "cell_type": "code",
   "execution_count": 227,
   "metadata": {
    "collapsed": false
   },
   "outputs": [
    {
     "data": {
      "text/html": [
       "<iframe src=ColouredDEFCPathway.pdf width=975 height=650></iframe>"
      ],
      "text/plain": [
       "<IPython.core.display.HTML object>"
      ]
     },
     "execution_count": 227,
     "metadata": {},
     "output_type": "execute_result"
    }
   ],
   "source": [
    "colouredDEFCPathway(significantPathway, diffexprgenes, fullMHTTable.log2FC, colDictTwo)"
   ]
  },
  {
   "cell_type": "code",
   "execution_count": null,
   "metadata": {
    "collapsed": true
   },
   "outputs": [],
   "source": []
  }
 ],
 "metadata": {
  "anaconda-cloud": {},
  "kernelspec": {
   "display_name": "Python [Root]",
   "language": "python",
   "name": "Python [Root]"
  },
  "language_info": {
   "codemirror_mode": {
    "name": "ipython",
    "version": 2
   },
   "file_extension": ".py",
   "mimetype": "text/x-python",
   "name": "python",
   "nbconvert_exporter": "python",
   "pygments_lexer": "ipython2",
   "version": "2.7.12"
  }
 },
 "nbformat": 4,
 "nbformat_minor": 0
}
