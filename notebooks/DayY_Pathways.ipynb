{
 "cells": [
  {
   "cell_type": "markdown",
   "metadata": {},
   "source": [
    "#### General notebook settings"
   ]
  },
  {
   "cell_type": "code",
   "execution_count": 1,
   "metadata": {
    "collapsed": true
   },
   "outputs": [],
   "source": [
    "%matplotlib inline"
   ]
  },
  {
   "cell_type": "code",
   "execution_count": 2,
   "metadata": {
    "collapsed": true
   },
   "outputs": [],
   "source": [
    "import sys\n",
    "import os"
   ]
  },
  {
   "cell_type": "code",
   "execution_count": 306,
   "metadata": {
    "collapsed": false
   },
   "outputs": [],
   "source": [
    "import pandas as pd\n",
    "import numpy as np\n",
    "import matplotlib\n",
    "import matplotlib.pyplot as plt\n",
    "import seaborn as sns\n",
    "from scipy.stats import chi2_contingency\n",
    "from scipy.stats import pearsonr\n",
    "from scipy.stats import bartlett, levene, normaltest, mannwhitneyu\n",
    "from scipy.stats.mstats import zscore\n",
    "from scipy.stats import hypergeom\n",
    "from statsmodels.sandbox.stats.multicomp import multipletests\n",
    "import statsmodels.graphics.gofplots as sm\n",
    "import random\n",
    "import math"
   ]
  },
  {
   "cell_type": "code",
   "execution_count": 4,
   "metadata": {
    "collapsed": true
   },
   "outputs": [],
   "source": [
    "DIR = \"InOutDirectory/\""
   ]
  },
  {
   "cell_type": "markdown",
   "metadata": {},
   "source": [
    "## Task 1: KEGG and gene id mapping"
   ]
  },
  {
   "cell_type": "markdown",
   "metadata": {},
   "source": [
    "Familiarize yourself with the KEGG Rest interface and how to access it with Biopyhton:\n",
    "\n",
    "http://www.genome.jp/kegg/rest/keggapi.html\n",
    "\n",
    "http://nbviewer.jupyter.org/github/widdowquinn/notebooks/blob/master/Biopython_KGML_intro.ipynb"
   ]
  },
  {
   "cell_type": "markdown",
   "metadata": {},
   "source": [
    "### Subtask 1.1 Extract gene lists for all (mouse) KEGG pathways and store them in a suitable Python data structure"
   ]
  },
  {
   "cell_type": "markdown",
   "metadata": {},
   "source": [
    "Import for the connection with KEGG."
   ]
  },
  {
   "cell_type": "code",
   "execution_count": 7,
   "metadata": {
    "collapsed": false
   },
   "outputs": [],
   "source": [
    "from Bio import SeqIO\n",
    "from Bio.KEGG.REST import *\n",
    "from Bio.KEGG.KGML import KGML_parser\n",
    "from Bio.Graphics.KGML_vis import KGMLCanvas\n",
    "from Bio.Graphics.ColorSpiral import ColorSpiral"
   ]
  },
  {
   "cell_type": "code",
   "execution_count": 8,
   "metadata": {
    "collapsed": false
   },
   "outputs": [
    {
     "name": "stdout",
     "output_type": "stream",
     "text": [
      "kegg             Kyoto Encyclopedia of Genes and Genomes\n",
      "kegg             Release 79.0+/09-27, Sep 16\n",
      "                 Kanehisa Laboratories\n",
      "                 pathway     462,412 entries\n",
      "                 brite       165,895 entries\n",
      "                 module      377,109 entries\n",
      "                 disease       1,657 entries\n",
      "                 drug         10,364 entries\n",
      "                 environ         850 entries\n",
      "                 orthology    20,123 entries\n",
      "                 genome        4,746 entries\n",
      "                 genes     20,175,595 entries\n",
      "                 dgenes       99,485 entries\n",
      "                 compound     17,748 entries\n",
      "                 glycan       10,994 entries\n",
      "                 reaction     10,248 entries\n",
      "                 rpair         9,661 entries\n",
      "                 rclass        3,059 entries\n",
      "                 enzyme        6,791 entries\n",
      "\n"
     ]
    }
   ],
   "source": [
    "# check the connection to KEGG\n",
    "print(kegg_info(\"kegg\").read())"
   ]
  },
  {
   "cell_type": "code",
   "execution_count": 109,
   "metadata": {
    "collapsed": false
   },
   "outputs": [],
   "source": [
    "mouseGenesKEGG_pathways = kegg_list(\"pathway\", \"mmu\").read()"
   ]
  },
  {
   "cell_type": "code",
   "execution_count": 110,
   "metadata": {
    "collapsed": false
   },
   "outputs": [],
   "source": [
    "mouseGenesKEGG_pathwayNames = [line.split(\"\\t\") for line in mouseGenesKEGG_pathways.split(\"\\n\")]"
   ]
  },
  {
   "cell_type": "markdown",
   "metadata": {},
   "source": [
    "To get all genes for all pathways of mus musculus, the command kegg_get was used on every pathway ID. A suitable datastructure for storing all data (pathway ID, pathway description and appropriated genes) seems to be a python dictionary with the pathway ID as key. Just the gene names of every gene were stored."
   ]
  },
  {
   "cell_type": "code",
   "execution_count": 157,
   "metadata": {
    "collapsed": true
   },
   "outputs": [
    {
     "name": "stdout",
     "output_type": "stream",
     "text": [
      "path:mmu00010\n",
      "path:mmu00020\n",
      "path:mmu00030\n",
      "path:mmu00040\n",
      "path:mmu00051\n",
      "path:mmu00052\n",
      "path:mmu00053\n",
      "path:mmu00061\n",
      "path:mmu00062\n",
      "path:mmu00071\n",
      "path:mmu00072\n",
      "path:mmu00100\n",
      "path:mmu00120\n",
      "path:mmu00130\n",
      "path:mmu00140\n",
      "path:mmu00190\n",
      "path:mmu00220\n",
      "path:mmu00230\n",
      "path:mmu00232\n",
      "path:mmu00240\n",
      "path:mmu00250\n",
      "path:mmu00260\n",
      "path:mmu00270\n",
      "path:mmu00280\n",
      "path:mmu00290\n",
      "path:mmu00300\n",
      "path:mmu00310\n",
      "path:mmu00330\n",
      "path:mmu00340\n",
      "path:mmu00350\n",
      "path:mmu00360\n",
      "path:mmu00380\n",
      "path:mmu00400\n",
      "path:mmu00410\n",
      "path:mmu00430\n",
      "path:mmu00450\n",
      "path:mmu00471\n",
      "path:mmu00472\n",
      "path:mmu00480\n",
      "path:mmu00500\n",
      "path:mmu00510\n",
      "path:mmu00511\n",
      "path:mmu00512\n",
      "path:mmu00514\n",
      "path:mmu00520\n",
      "path:mmu00524\n",
      "path:mmu00531\n",
      "path:mmu00532\n",
      "path:mmu00533\n",
      "path:mmu00534\n",
      "path:mmu00561\n",
      "path:mmu00562\n",
      "path:mmu00563\n",
      "path:mmu00564\n",
      "path:mmu00565\n",
      "path:mmu00590\n",
      "path:mmu00591\n",
      "path:mmu00592\n",
      "path:mmu00600\n",
      "path:mmu00601\n",
      "path:mmu00603\n",
      "path:mmu00604\n",
      "path:mmu00620\n",
      "path:mmu00630\n",
      "path:mmu00640\n",
      "path:mmu00650\n",
      "path:mmu00670\n",
      "path:mmu00730\n",
      "path:mmu00740\n",
      "path:mmu00750\n",
      "path:mmu00760\n",
      "path:mmu00770\n",
      "path:mmu00780\n",
      "path:mmu00785\n",
      "path:mmu00790\n",
      "path:mmu00830\n",
      "path:mmu00860\n",
      "path:mmu00900\n",
      "path:mmu00910\n",
      "path:mmu00920\n",
      "path:mmu00970\n",
      "path:mmu00980\n",
      "path:mmu00982\n",
      "path:mmu00983\n",
      "path:mmu01040\n",
      "path:mmu01100\n",
      "path:mmu01200\n",
      "path:mmu01210\n",
      "path:mmu01212\n",
      "path:mmu01230\n",
      "path:mmu01521\n",
      "path:mmu01522\n",
      "path:mmu01524\n",
      "path:mmu02010\n",
      "path:mmu03008\n",
      "path:mmu03010\n",
      "path:mmu03013\n",
      "path:mmu03015\n",
      "path:mmu03018\n",
      "path:mmu03020\n",
      "path:mmu03022\n",
      "path:mmu03030\n",
      "path:mmu03040\n",
      "path:mmu03050\n",
      "path:mmu03060\n",
      "path:mmu03320\n",
      "path:mmu03410\n",
      "path:mmu03420\n",
      "path:mmu03430\n",
      "path:mmu03440\n",
      "path:mmu03450\n",
      "path:mmu03460\n",
      "path:mmu04010\n",
      "path:mmu04012\n",
      "path:mmu04014\n",
      "path:mmu04015\n",
      "path:mmu04020\n",
      "path:mmu04022\n",
      "path:mmu04024\n",
      "path:mmu04060\n",
      "path:mmu04062\n",
      "path:mmu04064\n",
      "path:mmu04066\n",
      "path:mmu04068\n",
      "path:mmu04070\n",
      "path:mmu04071\n",
      "path:mmu04072\n",
      "path:mmu04080\n",
      "path:mmu04110\n",
      "path:mmu04114\n",
      "path:mmu04115\n",
      "path:mmu04120\n",
      "path:mmu04122\n",
      "path:mmu04130\n",
      "path:mmu04140\n",
      "path:mmu04141\n",
      "path:mmu04142\n",
      "path:mmu04144\n",
      "path:mmu04145\n",
      "path:mmu04146\n",
      "path:mmu04150\n",
      "path:mmu04151\n",
      "path:mmu04152\n",
      "path:mmu04210\n",
      "path:mmu04211\n",
      "path:mmu04213\n",
      "path:mmu04215\n",
      "path:mmu04260\n",
      "path:mmu04261\n",
      "path:mmu04270\n",
      "path:mmu04310\n",
      "path:mmu04320\n",
      "path:mmu04330\n",
      "path:mmu04340\n",
      "path:mmu04350\n",
      "path:mmu04360\n",
      "path:mmu04370\n",
      "path:mmu04380\n",
      "path:mmu04390\n",
      "path:mmu04392\n",
      "path:mmu04510\n",
      "path:mmu04512\n",
      "path:mmu04514\n",
      "path:mmu04520\n",
      "path:mmu04530\n",
      "path:mmu04540\n",
      "path:mmu04550\n",
      "path:mmu04610\n",
      "path:mmu04611\n",
      "path:mmu04612\n",
      "path:mmu04614\n",
      "path:mmu04620\n",
      "path:mmu04621\n",
      "path:mmu04622\n",
      "path:mmu04623\n",
      "path:mmu04630\n",
      "path:mmu04640\n",
      "path:mmu04650\n",
      "path:mmu04660\n",
      "path:mmu04662\n",
      "path:mmu04664\n",
      "path:mmu04666\n",
      "path:mmu04668\n",
      "path:mmu04670\n",
      "path:mmu04672\n",
      "path:mmu04710\n",
      "path:mmu04713\n",
      "path:mmu04720\n",
      "path:mmu04721\n",
      "path:mmu04722\n",
      "path:mmu04723\n",
      "path:mmu04724\n",
      "path:mmu04725\n",
      "path:mmu04726\n",
      "path:mmu04727\n",
      "path:mmu04728\n",
      "path:mmu04730\n",
      "path:mmu04740\n",
      "path:mmu04742\n",
      "path:mmu04744\n",
      "path:mmu04750\n",
      "path:mmu04810\n",
      "path:mmu04910\n",
      "path:mmu04911\n",
      "path:mmu04912\n",
      "path:mmu04913\n",
      "path:mmu04914\n",
      "path:mmu04915\n",
      "path:mmu04916\n",
      "path:mmu04917\n",
      "path:mmu04918\n",
      "path:mmu04919\n",
      "path:mmu04920\n",
      "path:mmu04921\n",
      "path:mmu04922\n",
      "path:mmu04923\n",
      "path:mmu04924\n",
      "path:mmu04925\n",
      "path:mmu04930\n",
      "path:mmu04931\n",
      "path:mmu04932\n",
      "path:mmu04933\n",
      "path:mmu04940\n",
      "path:mmu04950\n",
      "path:mmu04960\n",
      "path:mmu04961\n",
      "path:mmu04962\n",
      "path:mmu04964\n",
      "path:mmu04966\n",
      "path:mmu04970\n",
      "path:mmu04971\n",
      "path:mmu04972\n",
      "path:mmu04973\n",
      "path:mmu04974\n",
      "path:mmu04975\n",
      "path:mmu04976\n",
      "path:mmu04977\n",
      "path:mmu04978\n",
      "path:mmu05010\n",
      "path:mmu05012\n",
      "path:mmu05014\n",
      "path:mmu05016\n",
      "path:mmu05020\n",
      "path:mmu05030\n",
      "path:mmu05031\n",
      "path:mmu05032\n",
      "path:mmu05033\n",
      "path:mmu05034\n",
      "path:mmu05100\n",
      "path:mmu05132\n",
      "path:mmu05133\n",
      "path:mmu05134\n",
      "path:mmu05140\n",
      "path:mmu05142\n",
      "path:mmu05143\n",
      "path:mmu05144\n",
      "path:mmu05145\n",
      "path:mmu05146\n",
      "path:mmu05150\n",
      "path:mmu05152\n",
      "path:mmu05160\n",
      "path:mmu05161\n",
      "path:mmu05162\n",
      "path:mmu05164\n",
      "path:mmu05166\n",
      "path:mmu05168\n",
      "path:mmu05169\n",
      "path:mmu05200\n",
      "path:mmu05202\n",
      "path:mmu05203\n",
      "path:mmu05204\n",
      "path:mmu05205\n",
      "path:mmu05206\n",
      "path:mmu05210\n",
      "path:mmu05211\n",
      "path:mmu05212\n",
      "path:mmu05213\n",
      "path:mmu05214\n",
      "path:mmu05215\n",
      "path:mmu05216\n",
      "path:mmu05217\n",
      "path:mmu05218\n",
      "path:mmu05219\n",
      "path:mmu05220\n",
      "path:mmu05221\n",
      "path:mmu05222\n",
      "path:mmu05223\n",
      "path:mmu05224\n",
      "path:mmu05230\n",
      "path:mmu05231\n",
      "path:mmu05310\n",
      "path:mmu05320\n",
      "path:mmu05321\n",
      "path:mmu05322\n",
      "path:mmu05323\n",
      "path:mmu05330\n",
      "path:mmu05332\n",
      "path:mmu05340\n",
      "path:mmu05410\n",
      "path:mmu05412\n",
      "path:mmu05414\n",
      "path:mmu05416\n"
     ]
    }
   ],
   "source": [
    "# initialise dictionary\n",
    "mousePathway = {} \n",
    "\n",
    "# loop over all pathways to get all genes for each pathway\n",
    "for l in mouseGenesKEGG_pathwayNames[:-1]:\n",
    "    \n",
    "    # get all genes of a pathway\n",
    "    temp_genes = kegg_get(l[0]).read()\n",
    "    \n",
    "    if \"GENE\" in temp_genes:\n",
    "        # get all genes if this pathway contains genes\n",
    "        temp_genes = temp_genes.replace(\"COMPOUND\", \"GENE\").split(\"GENE\")[1].split(\"\\n\")\n",
    "        \n",
    "        # create a list, starting with the pathway description followed by all genes in that pathway\n",
    "        pathway_info = [l[1]] + [gene.split(\";\")[0].split(\" \")[-1] for gene in temp_genes[:-1]]\n",
    "    else:\n",
    "        # else report just the pathway description as info\n",
    "        pathway_info = [l[1]]\n",
    "    \n",
    "    # set the pathway id as key for the dictionary and fill it with the information list (description and genes)\n",
    "    mousePathway[l[0]] = pathway_info"
   ]
  },
  {
   "cell_type": "markdown",
   "metadata": {},
   "source": [
    "### Subtask 1.2: Save the KEGG gene sets as a gmt file after you made sure they have the proper gene ids with respect to your DE analysis"
   ]
  },
  {
   "cell_type": "markdown",
   "metadata": {},
   "source": [
    "hints: \n",
    "\n",
    "http://biopython.org/wiki/Annotate_Entrez_Gene_IDs\n",
    "\n",
    "http://www.broadinstitute.org/cancer/software/gsea/wiki/index.php/Data_formats"
   ]
  },
  {
   "cell_type": "code",
   "execution_count": 180,
   "metadata": {
    "collapsed": false
   },
   "outputs": [],
   "source": [
    "# initialise outfile\n",
    "with open(DIR + \"CompleteMousePathway.gmt\", \"w\") as out:\n",
    "    # emptystring for final save\n",
    "    mouseGmt = \"\"\n",
    "    for k in mousePathway:\n",
    "        mouseGmt += k + \"\\t\" + str(mousePathway[k]).replace(\"'\", \"\")\\\n",
    "                                                   .replace(\"]\", \"\")\\\n",
    "                                                   .replace(\"[\", \"\")\\\n",
    "                                                   .replace(\", \", \"\\t\")\\\n",
    "                    + \"\\n\"\n",
    "                     \n",
    "    out.write(mouseGmt)"
   ]
  },
  {
   "cell_type": "markdown",
   "metadata": {},
   "source": [
    "## Task 2: Gene Set Enrichment"
   ]
  },
  {
   "cell_type": "markdown",
   "metadata": {},
   "source": [
    "### Subtask 2.1: Read in the csv file you produced during the Differential Expression module, extract a gene list (as a python list of gene symbols) from your favorite multiple correction column (and store it in a variable)"
   ]
  },
  {
   "cell_type": "code",
   "execution_count": 191,
   "metadata": {
    "collapsed": false
   },
   "outputs": [
    {
     "data": {
      "text/plain": [
       "66"
      ]
     },
     "execution_count": 191,
     "metadata": {},
     "output_type": "execute_result"
    }
   ],
   "source": [
    "len(mousePathway[\"path:mmu00010\"]) -1"
   ]
  },
  {
   "cell_type": "code",
   "execution_count": 204,
   "metadata": {
    "collapsed": false
   },
   "outputs": [],
   "source": [
    "fullMHTTable = pd.read_csv(DIR + \"MHTsandFC.csv\", index_col=0)"
   ]
  },
  {
   "cell_type": "code",
   "execution_count": 211,
   "metadata": {
    "collapsed": false
   },
   "outputs": [
    {
     "data": {
      "text/html": [
       "<div>\n",
       "<table border=\"1\" class=\"dataframe\">\n",
       "  <thead>\n",
       "    <tr style=\"text-align: right;\">\n",
       "      <th></th>\n",
       "      <th>p_value</th>\n",
       "      <th>sidak_cor_pval</th>\n",
       "      <th>holm-sidak_cor_pval</th>\n",
       "      <th>holm_cor_pval</th>\n",
       "      <th>simes-hochberg_cor_pval</th>\n",
       "      <th>hommel_cor_pval</th>\n",
       "      <th>fdr_bh_cor_pval</th>\n",
       "      <th>fdr_by_cor_pval</th>\n",
       "      <th>fdr_tsbh_cor_pval</th>\n",
       "      <th>fdr_tsbky_cor_pval</th>\n",
       "      <th>log2FC</th>\n",
       "    </tr>\n",
       "  </thead>\n",
       "  <tbody>\n",
       "    <tr>\n",
       "      <th>Igh</th>\n",
       "      <td>8.634098e-08</td>\n",
       "      <td>1.883393e-03</td>\n",
       "      <td>1.720503e-03</td>\n",
       "      <td>1.721984e-03</td>\n",
       "      <td>1.721725e-03</td>\n",
       "      <td>1.517184e-03</td>\n",
       "      <td>9.953373e-07</td>\n",
       "      <td>1.051919e-05</td>\n",
       "      <td>4.384973e-07</td>\n",
       "      <td>4.653523e-07</td>\n",
       "      <td>0.036313</td>\n",
       "    </tr>\n",
       "    <tr>\n",
       "      <th>Hcfc2</th>\n",
       "      <td>8.742707e-05</td>\n",
       "      <td>8.517664e-01</td>\n",
       "      <td>7.667686e-01</td>\n",
       "      <td>1.000000e+00</td>\n",
       "      <td>5.000000e-01</td>\n",
       "      <td>4.995801e-01</td>\n",
       "      <td>3.677223e-04</td>\n",
       "      <td>3.886259e-03</td>\n",
       "      <td>1.620006e-04</td>\n",
       "      <td>1.719221e-04</td>\n",
       "      <td>0.019963</td>\n",
       "    </tr>\n",
       "    <tr>\n",
       "      <th>Ccdc112</th>\n",
       "      <td>1.072951e-11</td>\n",
       "      <td>2.342685e-07</td>\n",
       "      <td>2.305239e-07</td>\n",
       "      <td>2.305236e-07</td>\n",
       "      <td>2.305129e-07</td>\n",
       "      <td>2.250516e-07</td>\n",
       "      <td>6.657274e-10</td>\n",
       "      <td>7.035715e-09</td>\n",
       "      <td>2.932872e-10</td>\n",
       "      <td>3.112491e-10</td>\n",
       "      <td>0.077491</td>\n",
       "    </tr>\n",
       "    <tr>\n",
       "      <th>EG635895</th>\n",
       "      <td>7.292464e-07</td>\n",
       "      <td>1.579628e-02</td>\n",
       "      <td>1.394280e-02</td>\n",
       "      <td>1.404091e-02</td>\n",
       "      <td>1.404091e-02</td>\n",
       "      <td>1.153522e-02</td>\n",
       "      <td>6.165232e-06</td>\n",
       "      <td>6.515702e-05</td>\n",
       "      <td>2.716102e-06</td>\n",
       "      <td>2.882445e-06</td>\n",
       "      <td>0.064943</td>\n",
       "    </tr>\n",
       "    <tr>\n",
       "      <th>Srp72</th>\n",
       "      <td>3.539137e-01</td>\n",
       "      <td>1.000000e+00</td>\n",
       "      <td>1.000000e+00</td>\n",
       "      <td>1.000000e+00</td>\n",
       "      <td>5.000000e-01</td>\n",
       "      <td>5.000000e-01</td>\n",
       "      <td>3.899639e-01</td>\n",
       "      <td>1.000000e+00</td>\n",
       "      <td>1.717992e-01</td>\n",
       "      <td>1.823207e-01</td>\n",
       "      <td>0.000477</td>\n",
       "    </tr>\n",
       "  </tbody>\n",
       "</table>\n",
       "</div>"
      ],
      "text/plain": [
       "               p_value  sidak_cor_pval  holm-sidak_cor_pval  holm_cor_pval  \\\n",
       "Igh       8.634098e-08    1.883393e-03         1.720503e-03   1.721984e-03   \n",
       "Hcfc2     8.742707e-05    8.517664e-01         7.667686e-01   1.000000e+00   \n",
       "Ccdc112   1.072951e-11    2.342685e-07         2.305239e-07   2.305236e-07   \n",
       "EG635895  7.292464e-07    1.579628e-02         1.394280e-02   1.404091e-02   \n",
       "Srp72     3.539137e-01    1.000000e+00         1.000000e+00   1.000000e+00   \n",
       "\n",
       "          simes-hochberg_cor_pval  hommel_cor_pval  fdr_bh_cor_pval  \\\n",
       "Igh                  1.721725e-03     1.517184e-03     9.953373e-07   \n",
       "Hcfc2                5.000000e-01     4.995801e-01     3.677223e-04   \n",
       "Ccdc112              2.305129e-07     2.250516e-07     6.657274e-10   \n",
       "EG635895             1.404091e-02     1.153522e-02     6.165232e-06   \n",
       "Srp72                5.000000e-01     5.000000e-01     3.899639e-01   \n",
       "\n",
       "          fdr_by_cor_pval  fdr_tsbh_cor_pval  fdr_tsbky_cor_pval    log2FC  \n",
       "Igh          1.051919e-05       4.384973e-07        4.653523e-07  0.036313  \n",
       "Hcfc2        3.886259e-03       1.620006e-04        1.719221e-04  0.019963  \n",
       "Ccdc112      7.035715e-09       2.932872e-10        3.112491e-10  0.077491  \n",
       "EG635895     6.515702e-05       2.716102e-06        2.882445e-06  0.064943  \n",
       "Srp72        1.000000e+00       1.717992e-01        1.823207e-01  0.000477  "
      ]
     },
     "execution_count": 211,
     "metadata": {},
     "output_type": "execute_result"
    }
   ],
   "source": [
    "fullMHTTable.head()"
   ]
  },
  {
   "cell_type": "markdown",
   "metadata": {},
   "source": [
    "Two different gene lists are required for further analysis. One with all genes with are in both datasets, all genes which are occuring in the expressed genes and the genes from the KEGG, one with DE genes."
   ]
  },
  {
   "cell_type": "code",
   "execution_count": 234,
   "metadata": {
    "collapsed": false
   },
   "outputs": [],
   "source": [
    "# all genes in KEGG, ignore the description they will automatically be removed in the next step\n",
    "keggenes = []\n",
    "for k in mousePathway:\n",
    "    keggenes.extend(mousePathway[k])\n",
    "\n",
    "# all genes in expression data\n",
    "exprgenes = [str(gene) for gene in fullMHTTable.index.values]\n",
    "\n",
    "# genes in both datasets\n",
    "commongenes = list(set(keggenes) & set(exprgenes))\n",
    "\n",
    "# differentially expressed genes\n",
    "diffexprgenes = [str(gene) for gene in fullMHTTable[fullMHTTable.sidak_cor_pval < 0.05].index.values]\n",
    "diffexprgenes = set(diffexprgenes) & set(commongenes)"
   ]
  },
  {
   "cell_type": "code",
   "execution_count": 244,
   "metadata": {
    "collapsed": false
   },
   "outputs": [],
   "source": [
    "crossDF = pd.DataFrame([[False, False]] * len(commongenes), index=commongenes, columns=[\"DE\", \"Pathway\"])\n",
    "crossDF.DE.loc[diffexprgenes] = True"
   ]
  },
  {
   "cell_type": "code",
   "execution_count": 347,
   "metadata": {
    "collapsed": false
   },
   "outputs": [
    {
     "data": {
      "text/html": [
       "<div>\n",
       "<table border=\"1\" class=\"dataframe\">\n",
       "  <thead>\n",
       "    <tr style=\"text-align: right;\">\n",
       "      <th></th>\n",
       "      <th>DE</th>\n",
       "      <th>Pathway</th>\n",
       "    </tr>\n",
       "  </thead>\n",
       "  <tbody>\n",
       "    <tr>\n",
       "      <th>Plekhg5</th>\n",
       "      <td>False</td>\n",
       "      <td>False</td>\n",
       "    </tr>\n",
       "    <tr>\n",
       "      <th>Nampt</th>\n",
       "      <td>False</td>\n",
       "      <td>False</td>\n",
       "    </tr>\n",
       "    <tr>\n",
       "      <th>Yod1</th>\n",
       "      <td>False</td>\n",
       "      <td>False</td>\n",
       "    </tr>\n",
       "    <tr>\n",
       "      <th>Rgs14</th>\n",
       "      <td>False</td>\n",
       "      <td>False</td>\n",
       "    </tr>\n",
       "    <tr>\n",
       "      <th>Shank3</th>\n",
       "      <td>False</td>\n",
       "      <td>False</td>\n",
       "    </tr>\n",
       "  </tbody>\n",
       "</table>\n",
       "</div>"
      ],
      "text/plain": [
       "            DE Pathway\n",
       "Plekhg5  False   False\n",
       "Nampt    False   False\n",
       "Yod1     False   False\n",
       "Rgs14    False   False\n",
       "Shank3   False   False"
      ]
     },
     "execution_count": 347,
     "metadata": {},
     "output_type": "execute_result"
    }
   ],
   "source": [
    "crossDF.head()"
   ]
  },
  {
   "cell_type": "markdown",
   "metadata": {},
   "source": [
    "### Subtask 2.2: Perform gene set enrichment (Fisher's exact test or an hypergeometric test will do for our purposes) with the KEGG gene sets you extracted in Task 1 (you may want to store the results in a pandas dataframe and write them to csv)"
   ]
  },
  {
   "cell_type": "markdown",
   "metadata": {},
   "source": [
    "hint:\n",
    "\n",
    "https://genetrail2.bioinf.uni-sb.de/help?topic=set_level_statistics"
   ]
  },
  {
   "cell_type": "code",
   "execution_count": 398,
   "metadata": {
    "collapsed": false
   },
   "outputs": [],
   "source": [
    "signPathways = pd.DataFrame([1.0] * len(mousePathway), index=mousePathway, columns=[\"p_value\"])"
   ]
  },
  {
   "cell_type": "code",
   "execution_count": 345,
   "metadata": {
    "collapsed": false
   },
   "outputs": [
    {
     "name": "stdout",
     "output_type": "stream",
     "text": [
      "0.175265232642\n"
     ]
    }
   ],
   "source": [
    "# test on one pathway\n",
    "pathwaygenes = list(set(mousePathway[\"path:mmu00010\"]) & set(commongenes))\n",
    "\n",
    "curCrossDF = crossDF.copy()\n",
    "curCrossDF.Pathway.loc[pathwaygenes] = True\n",
    "ct = pd.crosstab((curCrossDF.DE == True).replace([False, True], [\"not DE\", \"DE\"]), \n",
    "                 (curCrossDF.Pathway == True).replace([False, True], [\"not Pathway\", \"Pathway\"]),\n",
    "                 margins=True)\n",
    "n = ct.All.DE\n",
    "l = ct.Pathway.All\n",
    "m = ct.All.All\n",
    "k = ct.Pathway.DE\n",
    "\n",
    "kprime = (n * l) / m\n",
    "\n",
    "if kprime >= k:\n",
    "    print hypergeom.cdf(k, m, l, n)\n",
    "else:\n",
    "    print hypergeom.sf(k-1, m, l, n)"
   ]
  },
  {
   "cell_type": "code",
   "execution_count": 399,
   "metadata": {
    "collapsed": false,
    "scrolled": true
   },
   "outputs": [],
   "source": [
    "# for all pathways\n",
    "for key in mousePathway:\n",
    "    # get all possible pathway genes\n",
    "    pathwaygenes = list(set(mousePathway[key]) & set(commongenes))\n",
    "    \n",
    "    if len(pathwaygenes) == 0:\n",
    "        continue\n",
    "\n",
    "    # prepare a cross table for the current pathway \n",
    "    curCrossDF = crossDF.copy()\n",
    "    curCrossDF.Pathway.loc[pathwaygenes] = True\n",
    "    ct = pd.crosstab((curCrossDF.DE == True).replace([False, True], [\"not DE\", \"DE\"]), \n",
    "                     (curCrossDF.Pathway == True).replace([False, True], [\"not Pathway\", \"Pathway\"]),\n",
    "                     margins=True)\n",
    "    # get the variables according to GeneTrail\n",
    "    n = ct.All.DE\n",
    "    l = ct.Pathway.All\n",
    "    m = ct.All.All\n",
    "    k = ct.Pathway.DE\n",
    "    kprime = (n * l) / m\n",
    "\n",
    "    # select the hypergeometric test and store it\n",
    "    if kprime >= k:\n",
    "        signPathways.p_value.loc[key] = hypergeom.cdf(k, m, l, n)\n",
    "    else:\n",
    "        signPathways.p_value.loc[key] = hypergeom.sf(k-1, m, l, n)"
   ]
  },
  {
   "cell_type": "code",
   "execution_count": 400,
   "metadata": {
    "collapsed": true
   },
   "outputs": [],
   "source": [
    "signPathways.to_csv(DIR + \"SignificantPathways.csv\", na_rep=\"x\")"
   ]
  },
  {
   "cell_type": "markdown",
   "metadata": {},
   "source": [
    "### Subtask 2.3: Extract a list of significantly (at 0.05 significance) enriched KEGG pathways"
   ]
  },
  {
   "cell_type": "code",
   "execution_count": 401,
   "metadata": {
    "collapsed": false
   },
   "outputs": [],
   "source": [
    "res = multipletests(signPathways.p_value.values, alpha=0.05, method=\"sidak\")\n",
    "res = pd.DataFrame([res[1], res[0]], index =[\"sidak_cor_pval\", \"sidak_rej\"], columns=signPathways.index).T\n",
    "signPathways = signPathways.join(res)"
   ]
  },
  {
   "cell_type": "code",
   "execution_count": 406,
   "metadata": {
    "collapsed": false
   },
   "outputs": [
    {
     "data": {
      "text/html": [
       "<div>\n",
       "<table border=\"1\" class=\"dataframe\">\n",
       "  <thead>\n",
       "    <tr style=\"text-align: right;\">\n",
       "      <th></th>\n",
       "      <th>p_value</th>\n",
       "      <th>sidak_cor_pval</th>\n",
       "      <th>sidak_rej</th>\n",
       "    </tr>\n",
       "  </thead>\n",
       "  <tbody>\n",
       "    <tr>\n",
       "      <th>path:mmu00052</th>\n",
       "      <td>3.669043e-02</td>\n",
       "      <td>0.999987</td>\n",
       "      <td>False</td>\n",
       "    </tr>\n",
       "    <tr>\n",
       "      <th>path:mmu00190</th>\n",
       "      <td>1.199564e-02</td>\n",
       "      <td>0.973868</td>\n",
       "      <td>False</td>\n",
       "    </tr>\n",
       "    <tr>\n",
       "      <th>path:mmu00512</th>\n",
       "      <td>3.124239e-02</td>\n",
       "      <td>0.999931</td>\n",
       "      <td>False</td>\n",
       "    </tr>\n",
       "    <tr>\n",
       "      <th>path:mmu05202</th>\n",
       "      <td>2.181985e-02</td>\n",
       "      <td>0.998722</td>\n",
       "      <td>False</td>\n",
       "    </tr>\n",
       "    <tr>\n",
       "      <th>path:mmu05016</th>\n",
       "      <td>9.387543e-03</td>\n",
       "      <td>0.942065</td>\n",
       "      <td>False</td>\n",
       "    </tr>\n",
       "    <tr>\n",
       "      <th>path:mmu05010</th>\n",
       "      <td>1.864683e-02</td>\n",
       "      <td>0.996602</td>\n",
       "      <td>False</td>\n",
       "    </tr>\n",
       "    <tr>\n",
       "      <th>path:mmu05012</th>\n",
       "      <td>2.834375e-03</td>\n",
       "      <td>0.57565</td>\n",
       "      <td>False</td>\n",
       "    </tr>\n",
       "    <tr>\n",
       "      <th>path:mmu05332</th>\n",
       "      <td>1.826097e-03</td>\n",
       "      <td>0.424195</td>\n",
       "      <td>False</td>\n",
       "    </tr>\n",
       "    <tr>\n",
       "      <th>path:mmu04390</th>\n",
       "      <td>1.112213e-02</td>\n",
       "      <td>0.965874</td>\n",
       "      <td>False</td>\n",
       "    </tr>\n",
       "    <tr>\n",
       "      <th>path:mmu04962</th>\n",
       "      <td>1.675708e-02</td>\n",
       "      <td>0.993925</td>\n",
       "      <td>False</td>\n",
       "    </tr>\n",
       "    <tr>\n",
       "      <th>path:mmu03060</th>\n",
       "      <td>3.307674e-02</td>\n",
       "      <td>0.999961</td>\n",
       "      <td>False</td>\n",
       "    </tr>\n",
       "    <tr>\n",
       "      <th>path:mmu04530</th>\n",
       "      <td>1.407428e-02</td>\n",
       "      <td>0.986166</td>\n",
       "      <td>False</td>\n",
       "    </tr>\n",
       "    <tr>\n",
       "      <th>path:mmu04141</th>\n",
       "      <td>1.907850e-03</td>\n",
       "      <td>0.438263</td>\n",
       "      <td>False</td>\n",
       "    </tr>\n",
       "    <tr>\n",
       "      <th>path:mmu03040</th>\n",
       "      <td>5.982958e-03</td>\n",
       "      <td>0.836719</td>\n",
       "      <td>False</td>\n",
       "    </tr>\n",
       "    <tr>\n",
       "      <th>path:mmu04740</th>\n",
       "      <td>1.342473e-13</td>\n",
       "      <td>4.05362e-11</td>\n",
       "      <td>True</td>\n",
       "    </tr>\n",
       "    <tr>\n",
       "      <th>path:mmu04940</th>\n",
       "      <td>5.893117e-03</td>\n",
       "      <td>0.832201</td>\n",
       "      <td>False</td>\n",
       "    </tr>\n",
       "    <tr>\n",
       "      <th>path:mmu04925</th>\n",
       "      <td>2.625141e-02</td>\n",
       "      <td>0.999676</td>\n",
       "      <td>False</td>\n",
       "    </tr>\n",
       "    <tr>\n",
       "      <th>path:mmu05330</th>\n",
       "      <td>4.223097e-03</td>\n",
       "      <td>0.721427</td>\n",
       "      <td>False</td>\n",
       "    </tr>\n",
       "    <tr>\n",
       "      <th>path:mmu00970</th>\n",
       "      <td>1.675708e-02</td>\n",
       "      <td>0.993925</td>\n",
       "      <td>False</td>\n",
       "    </tr>\n",
       "    <tr>\n",
       "      <th>path:mmu04120</th>\n",
       "      <td>2.584308e-03</td>\n",
       "      <td>0.542268</td>\n",
       "      <td>False</td>\n",
       "    </tr>\n",
       "    <tr>\n",
       "      <th>path:mmu02010</th>\n",
       "      <td>1.158654e-02</td>\n",
       "      <td>0.970388</td>\n",
       "      <td>False</td>\n",
       "    </tr>\n",
       "    <tr>\n",
       "      <th>path:mmu03013</th>\n",
       "      <td>1.122688e-03</td>\n",
       "      <td>0.28769</td>\n",
       "      <td>False</td>\n",
       "    </tr>\n",
       "    <tr>\n",
       "      <th>path:mmu04110</th>\n",
       "      <td>4.988211e-02</td>\n",
       "      <td>1</td>\n",
       "      <td>False</td>\n",
       "    </tr>\n",
       "    <tr>\n",
       "      <th>path:mmu04114</th>\n",
       "      <td>3.602495e-02</td>\n",
       "      <td>0.999985</td>\n",
       "      <td>False</td>\n",
       "    </tr>\n",
       "  </tbody>\n",
       "</table>\n",
       "</div>"
      ],
      "text/plain": [
       "                    p_value sidak_cor_pval sidak_rej\n",
       "path:mmu00052  3.669043e-02       0.999987     False\n",
       "path:mmu00190  1.199564e-02       0.973868     False\n",
       "path:mmu00512  3.124239e-02       0.999931     False\n",
       "path:mmu05202  2.181985e-02       0.998722     False\n",
       "path:mmu05016  9.387543e-03       0.942065     False\n",
       "path:mmu05010  1.864683e-02       0.996602     False\n",
       "path:mmu05012  2.834375e-03        0.57565     False\n",
       "path:mmu05332  1.826097e-03       0.424195     False\n",
       "path:mmu04390  1.112213e-02       0.965874     False\n",
       "path:mmu04962  1.675708e-02       0.993925     False\n",
       "path:mmu03060  3.307674e-02       0.999961     False\n",
       "path:mmu04530  1.407428e-02       0.986166     False\n",
       "path:mmu04141  1.907850e-03       0.438263     False\n",
       "path:mmu03040  5.982958e-03       0.836719     False\n",
       "path:mmu04740  1.342473e-13    4.05362e-11      True\n",
       "path:mmu04940  5.893117e-03       0.832201     False\n",
       "path:mmu04925  2.625141e-02       0.999676     False\n",
       "path:mmu05330  4.223097e-03       0.721427     False\n",
       "path:mmu00970  1.675708e-02       0.993925     False\n",
       "path:mmu04120  2.584308e-03       0.542268     False\n",
       "path:mmu02010  1.158654e-02       0.970388     False\n",
       "path:mmu03013  1.122688e-03        0.28769     False\n",
       "path:mmu04110  4.988211e-02              1     False\n",
       "path:mmu04114  3.602495e-02       0.999985     False"
      ]
     },
     "execution_count": 406,
     "metadata": {},
     "output_type": "execute_result"
    }
   ],
   "source": [
    "signPathways[signPathways.p_value < 0.05]"
   ]
  },
  {
   "cell_type": "code",
   "execution_count": 403,
   "metadata": {
    "collapsed": false
   },
   "outputs": [
    {
     "data": {
      "text/html": [
       "<div>\n",
       "<table border=\"1\" class=\"dataframe\">\n",
       "  <thead>\n",
       "    <tr style=\"text-align: right;\">\n",
       "      <th></th>\n",
       "      <th>p_value</th>\n",
       "      <th>sidak_cor_pval</th>\n",
       "      <th>sidak_rej</th>\n",
       "    </tr>\n",
       "  </thead>\n",
       "  <tbody>\n",
       "    <tr>\n",
       "      <th>path:mmu04740</th>\n",
       "      <td>1.342473e-13</td>\n",
       "      <td>4.05362e-11</td>\n",
       "      <td>True</td>\n",
       "    </tr>\n",
       "  </tbody>\n",
       "</table>\n",
       "</div>"
      ],
      "text/plain": [
       "                    p_value sidak_cor_pval sidak_rej\n",
       "path:mmu04740  1.342473e-13    4.05362e-11      True"
      ]
     },
     "execution_count": 403,
     "metadata": {},
     "output_type": "execute_result"
    }
   ],
   "source": [
    "signPathways[signPathways.sidak_rej == True]"
   ]
  },
  {
   "cell_type": "markdown",
   "metadata": {},
   "source": [
    "After multiple hypothesis testing with the Sidak method, just one pathway (mmu04740) remains as significant aftergene set enrichment. Without the correction it would have been 24 pathways."
   ]
  },
  {
   "cell_type": "markdown",
   "metadata": {},
   "source": [
    "## Task 3: KEGG map visualization"
   ]
  },
  {
   "cell_type": "markdown",
   "metadata": {},
   "source": [
    "#### hint:\n",
    "\n",
    "http://nbviewer.jupyter.org/github/widdowquinn/notebooks/blob/master/Biopython_KGML_intro.ipynb\n",
    "\n",
    "#### remark:\n",
    "\n",
    "In real life you may want to use the R-based tool pathview: https://bioconductor.org/packages/release/bioc/html/pathview.html (if you insist you can also try to use r2py for using pathview from Python during the practical)\n",
    "\n",
    "For Python (in addition to the Biopyhton module) https://github.com/idekerlab/py2cytoscape in combination with https://github.com/idekerlab/KEGGscape may be another alternative (in the future)\n",
    "\n",
    "Generally speaking, it is always a good idea to pay attention also to other pathway databases like Reactome or WikiPathways ..."
   ]
  },
  {
   "cell_type": "markdown",
   "metadata": {},
   "source": [
    "### Subtask 3.1: Pick some significantly enriched KEGG pathways of your choice from 2.3 and visualize them"
   ]
  },
  {
   "cell_type": "code",
   "execution_count": null,
   "metadata": {
    "collapsed": false
   },
   "outputs": [],
   "source": []
  },
  {
   "cell_type": "markdown",
   "metadata": {},
   "source": [
    "### Subtask 3.2: Define a a suitable binary color scheme respresenting the fact whether a gene is significantly expressed or not"
   ]
  },
  {
   "cell_type": "markdown",
   "metadata": {},
   "source": [
    "hint: \n",
    "\n",
    "http://www.rapidtables.com/web/color/RGB_Color.htm"
   ]
  },
  {
   "cell_type": "markdown",
   "metadata": {},
   "source": [
    "### Subtask 3.3: Visualize the pathway(s) from 3.1 in such a way that the included genes have the corresponding color from 3.2 ( you may need to define a suitable mapping from single genes to what is actually shown in the pathway map...)"
   ]
  },
  {
   "cell_type": "code",
   "execution_count": null,
   "metadata": {
    "collapsed": false
   },
   "outputs": [],
   "source": []
  },
  {
   "cell_type": "markdown",
   "metadata": {},
   "source": [
    "### Subtask 3.4: Define a suitable continuous color range representing the log2 fold changes of the all the genes in your data"
   ]
  },
  {
   "cell_type": "markdown",
   "metadata": {},
   "source": [
    "hint:\n",
    "\n",
    "http://bsou.io/posts/color-gradients-with-python"
   ]
  },
  {
   "cell_type": "code",
   "execution_count": null,
   "metadata": {
    "collapsed": true
   },
   "outputs": [],
   "source": []
  },
  {
   "cell_type": "markdown",
   "metadata": {},
   "source": [
    "### Subtask 3.5: Visualize the pathway(s) from 3.1 in such a way that the included genes have the corresponding color from 3.4"
   ]
  },
  {
   "cell_type": "code",
   "execution_count": null,
   "metadata": {
    "collapsed": true
   },
   "outputs": [],
   "source": []
  }
 ],
 "metadata": {
  "anaconda-cloud": {},
  "kernelspec": {
   "display_name": "Python [Root]",
   "language": "python",
   "name": "Python [Root]"
  },
  "language_info": {
   "codemirror_mode": {
    "name": "ipython",
    "version": 2
   },
   "file_extension": ".py",
   "mimetype": "text/x-python",
   "name": "python",
   "nbconvert_exporter": "python",
   "pygments_lexer": "ipython2",
   "version": "2.7.12"
  }
 },
 "nbformat": 4,
 "nbformat_minor": 0
}
